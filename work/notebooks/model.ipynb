{
 "cells": [
  {
   "cell_type": "code",
   "execution_count": 1,
   "id": "41fcd7a3-075a-43c5-928b-d50d5e53da8a",
   "metadata": {},
   "outputs": [],
   "source": [
    "import os\n",
    "import sys\n",
    "import importnb\n",
    "from torch import nn\n",
    "import torch\n",
    "import numpy as np"
   ]
  },
  {
   "cell_type": "code",
   "execution_count": 16,
   "id": "b955404e-a732-41e9-9cfe-da397d9d74e5",
   "metadata": {},
   "outputs": [],
   "source": [
    "notebook_path = os.getcwd()\n",
    "parent_dir = os.path.dirname(notebook_path)\n",
    "sys.path.append(parent_dir)\n",
    "with __import__(\"importnb\").Notebook():\n",
    "    from utils.tools import MultiHeadAttention\n",
    "    from utils.tools import AddPositionalEncoding\n",
    "    from utils.tools import TransformerFFN\n",
    "    from utils.tools import Patch\n",
    "    from utils.tools import MLPHead"
   ]
  },
  {
   "cell_type": "code",
   "execution_count": 17,
   "id": "96187bf1-28a7-4353-9f3e-7f6c00010c57",
   "metadata": {},
   "outputs": [],
   "source": [
    "class TransformerEncoderLayer(nn.Module):\n",
    "\n",
    "    def __init__(\n",
    "        self,\n",
    "        d_model: int,\n",
    "        d_ff: int,\n",
    "        num_head: int,\n",
    "        dropout_rate: float,\n",
    "        layer_norm_eps: float,\n",
    "    ) -> None:\n",
    "        super().__init__()\n",
    "        # layerの宣言\n",
    "        self.mha = MultiHeadAttention(num_head, d_model)\n",
    "        self.layernorm_mha = nn.LayerNorm(d_model, eps=layer_norm_eps)\n",
    "        self.dropout_mha = nn.Dropout(dropout_rate)\n",
    "\n",
    "        self.ffn = TransformerFFN(d_model, d_ff)\n",
    "        self.dropout_ffn = nn.Dropout(dropout_rate)\n",
    "        self.layernorm_ffn = nn.LayerNorm(d_model, eps=layer_norm_eps)\n",
    "\n",
    "    def forward(self, x: torch.Tensor, mask: torch.Tensor = None) -> torch.Tensor:\n",
    "\n",
    "        # attention層を通す\n",
    "        # add+layernorm\n",
    "        x = self.layernorm_mha(self.__get_mha_output(x, mask) + x)\n",
    "\n",
    "        # FFN層を通す\n",
    "        # add+layernorm\n",
    "        x = self.layernorm_ffn(self.__get_ffn_output(x) + x)\n",
    "\n",
    "        return x\n",
    "\n",
    "    def __get_mha_output(\n",
    "        self, x: torch.Tensor, mask: torch.Tensor = None\n",
    "    ) -> torch.Tensor:\n",
    "        x = self.mha(x, x, x, mask)\n",
    "        x = self.dropout_mha(x)\n",
    "        return x\n",
    "\n",
    "    def __get_ffn_output(\n",
    "        self,\n",
    "        x: torch.Tensor,\n",
    "    ) -> torch.Tensor:\n",
    "        x = self.ffn(x)\n",
    "        x = self.dropout_ffn(x)\n",
    "        return x"
   ]
  },
  {
   "cell_type": "code",
   "execution_count": 18,
   "id": "631267c6-a627-4c1d-962a-06baae486ea1",
   "metadata": {},
   "outputs": [],
   "source": [
    "class TransformerEncoder(nn.Module):\n",
    "    def __init__(\n",
    "        self,\n",
    "        d_model: int,\n",
    "        d_ff: int,\n",
    "        num_head: int,\n",
    "        dropout_rate: float,\n",
    "        layer_norm_eps: float,\n",
    "        # 変更点\n",
    "        patch_num: int,\n",
    "        patch_dim: int,\n",
    "        N: int,\n",
    "        device: torch.device = torch.device(\"cpu\"),\n",
    "    ) -> None:\n",
    "        super().__init__()\n",
    "        # cls_tokenの付加\n",
    "        self.cls_token = nn.Parameter(torch.randn(1, 1, d_model))\n",
    "        # InputEmbedding層の定義\n",
    "        self.embedding = nn.Linear(patch_dim, d_model)\n",
    "        # positionalencoding層の定義\n",
    "        self.pos = AddPositionalEncoding(d_model, patch_num + 1, device)\n",
    "        # encoderlayer層の定義\n",
    "        self.encoder_layers = nn.ModuleList(\n",
    "            [\n",
    "                TransformerEncoderLayer(\n",
    "                    d_model, d_ff, num_head, dropout_rate, layer_norm_eps\n",
    "                )\n",
    "                for _ in range(N)\n",
    "            ]\n",
    "        )\n",
    "\n",
    "    def forward(\n",
    "        self,\n",
    "        x: torch.Tensor,\n",
    "        mask: torch.Tensor = None,\n",
    "    ) -> torch.Tensor:\n",
    "        # テンソルを表す変数（例：input_tensor）があると仮定\n",
    "        batch_size = x.size(0)\n",
    "        x = self.embedding(x)\n",
    "        cls_tokens = self.cls_token.repeat(batch_size, 1, 1)\n",
    "        x = torch.concat([cls_tokens, x], dim=1)\n",
    "        x = self.pos(x)\n",
    "        for layer in self.encoder_layers:\n",
    "            x = layer(x, mask)\n",
    "        return x"
   ]
  },
  {
   "cell_type": "code",
   "execution_count": 26,
   "id": "f994b221-8909-4145-bb35-1aa156e33881",
   "metadata": {},
   "outputs": [],
   "source": [
    "class VisionTransformer(nn.Module):\n",
    "    def __init__(\n",
    "        self,\n",
    "        d_model: int,\n",
    "        d_ff: int,\n",
    "        num_head: int,\n",
    "        patch_size: int,\n",
    "        patch_num: int,\n",
    "        patch_dim: int,\n",
    "        out_dim: int,\n",
    "        N: int,\n",
    "        dropout_rate: float = 0.1,\n",
    "        layer_norm_eps: float = 1e-5,\n",
    "        device: torch.device = torch.device(\"cpu\"),\n",
    "    ):\n",
    "        super().__init__()\n",
    "        self.patch_and_flatten = Patch(\n",
    "            patch_size=patch_size,\n",
    "        )\n",
    "        self.encoder = TransformerEncoder(\n",
    "            d_model=d_model,\n",
    "            d_ff=d_ff,\n",
    "            num_head=num_head,\n",
    "            dropout_rate=dropout_rate,\n",
    "            layer_norm_eps=layer_norm_eps,\n",
    "            patch_num=patch_num,\n",
    "            patch_dim=patch_dim,\n",
    "            N=N,\n",
    "            device=device,\n",
    "        )\n",
    "        self.mlp_head = MLPHead(d_model=d_model, out_dim=out_dim)\n",
    "        self.softmax = nn.Softmax(dim=1)\n",
    "\n",
    "    def forward(self, x):\n",
    "        x = self.patch_and_flatten(x)\n",
    "        x = self.encoder(x)\n",
    "        x = self.mlp_head(x)\n",
    "        x = self.softmax(x)\n",
    "        return x"
   ]
  },
  {
   "cell_type": "code",
   "execution_count": 27,
   "id": "2d7110d2-98bb-4f8b-ac18-fec6e8ffec44",
   "metadata": {},
   "outputs": [],
   "source": [
    "x = torch.randn(size=(2, 3, 12, 12))"
   ]
  },
  {
   "cell_type": "code",
   "execution_count": 28,
   "id": "2fc9d32b-dc1d-4736-886e-0e472a678a5e",
   "metadata": {},
   "outputs": [],
   "source": [
    "vit = VisionTransformer(\n",
    "    d_model=512,\n",
    "    d_ff=1024,\n",
    "    num_head=8,\n",
    "    patch_size=4,\n",
    "    patch_num=9,\n",
    "    patch_dim=48,\n",
    "    out_dim=10,\n",
    "    N=6,\n",
    ")"
   ]
  },
  {
   "cell_type": "code",
   "execution_count": 29,
   "id": "4c9c113f-c00b-4b6b-b5af-e6659e07cc46",
   "metadata": {},
   "outputs": [],
   "source": [
    "x = vit(x)"
   ]
  },
  {
   "cell_type": "code",
   "execution_count": 30,
   "id": "f8cf1311-33e2-44f5-b992-c379c332fd9f",
   "metadata": {},
   "outputs": [
    {
     "data": {
      "text/plain": [
       "torch.Size([2, 10])"
      ]
     },
     "execution_count": 30,
     "metadata": {},
     "output_type": "execute_result"
    }
   ],
   "source": []
  },
  {
   "cell_type": "code",
   "execution_count": null,
   "id": "3e4b8a4e-a7af-4cf0-a523-e2a05573c455",
   "metadata": {},
   "outputs": [],
   "source": []
  }
 ],
 "metadata": {
  "kernelspec": {
   "display_name": "Python 3 (ipykernel)",
   "language": "python",
   "name": "python3"
  },
  "language_info": {
   "codemirror_mode": {
    "name": "ipython",
    "version": 3
   },
   "file_extension": ".py",
   "mimetype": "text/x-python",
   "name": "python",
   "nbconvert_exporter": "python",
   "pygments_lexer": "ipython3",
   "version": "3.8.18"
  }
 },
 "nbformat": 4,
 "nbformat_minor": 5
}
