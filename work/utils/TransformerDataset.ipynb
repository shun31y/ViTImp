{
 "cells": [
  {
   "cell_type": "code",
   "execution_count": 10,
   "id": "51e5e21f-05b3-4e3e-a226-118912f9beea",
   "metadata": {},
   "outputs": [],
   "source": [
    "import torch\n",
    "from torch import nn\n",
    "import numpy as np\n",
    "import json"
   ]
  },
  {
   "cell_type": "code",
   "execution_count": 11,
   "id": "c8e5fe69-f68d-4448-afd9-0c9d8cfc4f8f",
   "metadata": {},
   "outputs": [],
   "source": [
    "def tokenizer_ja(text):\n",
    "    return text.strip().split()\n",
    "\n",
    "def tokenizer_en(text):\n",
    "    return text.strip().lower().split()\n",
    "\n",
    "def text_iterator_ja(file_stream):\n",
    "    for line in file_stream:\n",
    "        yield line\n",
    "\n",
    "def text_iterator_en(file_stream):\n",
    "    for line in file_stream:\n",
    "        yield '<bos>'+' '+line+' '+'<eos>'\n",
    "\n",
    "def text_iterator_vocab(file_stream,tokenizer):\n",
    "    for line in file_stream:\n",
    "        yield tokenizer(line)"
   ]
  },
  {
   "cell_type": "code",
   "execution_count": 14,
   "id": "19ffa07c-b31c-4c48-8d49-07be6639726c",
   "metadata": {},
   "outputs": [],
   "source": [
    "from torch.utils.data import Dataset,DataLoader\n",
    "class MyDataset(Dataset):\n",
    "  def __init__(self,data,vocab_en,vocab_ja):\n",
    "    self.data = data\n",
    "    self.sentences_ja = list(data['text_ja'])\n",
    "    self.sentences_en = list(data['text_en'])\n",
    "    self.vocab_en = vocab_en\n",
    "    self.vocab_ja = vocab_ja\n",
    "    self.vocab_size_ja = len(vocab_ja)\n",
    "    self.vocab_size_en = len(vocab_en)\n",
    "  def __len__(self):\n",
    "    return len(self.data)\n",
    "  def tokenizer_ja(self,text):\n",
    "    return text.strip().split()\n",
    "  def tokenizer_en(self,text):\n",
    "    return text.strip().lower().split()\n",
    "  def text_iterator_ja(self,file_stream):\n",
    "    for line in file_stream:\n",
    "        yield line\n",
    "  def text_iterator_en(self,file_stream):\n",
    "    for line in file_stream:\n",
    "        yield '<bos>'+' '+line+' '+'<eos>'\n",
    "  def text_iterator_vocab(self,file_stream,tokenizer):\n",
    "    for line in file_stream:\n",
    "        yield tokenizer(line)\n",
    "  def get_max_len(self):\n",
    "      with open('../data/config.json', 'r') as file:\n",
    "        config = json.load(file)\n",
    "      max_len = config[\"max_len\"]\n",
    "      return max_len\n",
    "  def __getitem__(self,idx):\n",
    "    tokenized_sentence_ja = self.text_iterator_vocab(self.sentences_ja,tokenizer_ja)\n",
    "    tokenized_sentence_en = self.text_iterator_vocab(self.sentences_en,tokenizer_en)\n",
    "    tokenized_sentence_ja = list(tokenized_sentence_ja)[idx]\n",
    "    tokenized_sentence_en = list(tokenized_sentence_en)[idx]\n",
    "    while(len(tokenized_sentence_ja) < self.get_max_len()):\n",
    "      tokenized_sentence_ja.append('<pad>')\n",
    "    while(len(tokenized_sentence_en) < self.get_max_len()):\n",
    "      tokenized_sentence_en.append('<pad>')\n",
    "    sentence_id_ja = self.vocab_ja.lookup_indices(tokenized_sentence_ja)\n",
    "    sentence_id_en = self.vocab_en.lookup_indices(tokenized_sentence_en)\n",
    "    sentence_id_ja = torch.tensor(sentence_id_ja,dtype=torch.long)\n",
    "    sentence_id_en = torch.tensor(sentence_id_en,dtype=torch.long)\n",
    "    return sentence_id_ja,sentence_id_en"
   ]
  },
  {
   "cell_type": "code",
   "execution_count": null,
   "id": "2f41919c-3d26-4669-a626-84d43bb901c0",
   "metadata": {},
   "outputs": [],
   "source": []
  }
 ],
 "metadata": {
  "kernelspec": {
   "display_name": "Python 3 (ipykernel)",
   "language": "python",
   "name": "python3"
  },
  "language_info": {
   "codemirror_mode": {
    "name": "ipython",
    "version": 3
   },
   "file_extension": ".py",
   "mimetype": "text/x-python",
   "name": "python",
   "nbconvert_exporter": "python",
   "pygments_lexer": "ipython3",
   "version": "3.8.18"
  }
 },
 "nbformat": 4,
 "nbformat_minor": 5
}
