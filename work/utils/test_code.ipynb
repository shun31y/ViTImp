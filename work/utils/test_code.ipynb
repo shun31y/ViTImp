{
 "cells": [
  {
   "cell_type": "code",
   "execution_count": 1,
   "id": "fa838f70-e623-4178-b391-b30f1c901f1c",
   "metadata": {},
   "outputs": [],
   "source": [
    "import torch\n",
    "import numpy as np\n",
    "import torch.nn as nn\n",
    "import os\n",
    "import sys"
   ]
  },
  {
   "cell_type": "code",
   "execution_count": 2,
   "id": "66a07d0e-2b76-4744-a7a8-a723f579874a",
   "metadata": {},
   "outputs": [],
   "source": [
    "notebook_path = os.getcwd()\n",
    "parent_dir = os.path.dirname(notebook_path)\n",
    "sys.path.append(parent_dir)"
   ]
  },
  {
   "cell_type": "code",
   "execution_count": 3,
   "id": "2a1e08fc-887b-4cd0-82a9-7613b5e48849",
   "metadata": {},
   "outputs": [],
   "source": [
    "import importnb\n",
    "with __import__('importnb').Notebook(): \n",
    "    from tools import ScaledDotProductAttention\n",
    "    from tools import MultiHeadAttention\n",
    "    from tools import AddPositionalEncoding\n",
    "    from tools import TransformerFFN\n",
    "    from notebooks.model import TransformerEncoderLayer,TransformerEncoder\n",
    "    from notebooks.model import TransformerDecoderLayer\n",
    "    from notebooks.model import Transformer"
   ]
  },
  {
   "cell_type": "markdown",
   "id": "db0096c9-d3d2-4aee-9c95-6d7d77808787",
   "metadata": {},
   "source": [
    "## SelfAttentionの実行\n",
    "\n",
    "### 適当なデータの作成\n",
    "---\n",
    "新しくデータkを作る。kは**(B,T,d_model)**のshapeを持つテンソルである。\n",
    "\n",
    "\n",
    "### SelfAttentionにする\n",
    "---\n",
    "q,k,vを同じテンソルにすることでSelfAttentionにする。\n",
    "\n",
    "\n",
    "### forwardで計算を行う。\n",
    "---\n",
    "呼び出したspa.forward()によって計算を行う。\n",
    "この時spaの初期化で与えるd_kには本来d_modelをhead数で割った値が入る(デフォルトだと512/8で64)"
   ]
  },
  {
   "cell_type": "code",
   "execution_count": 4,
   "id": "62951971-aa1c-4508-8b78-fa44b9013862",
   "metadata": {},
   "outputs": [],
   "source": [
    "###SelfAttentionの実行\n",
    "import json\n",
    "with open('../data/config.json', 'r') as file:\n",
    "    config = json.load(file)\n",
    "    \n",
    "max_len = config[\"max_len\"]\n",
    "src_vocab_size = config[\"src_vocab_size\"]\n",
    "tgt_vocab_size = config[\"tgt_vocab_size\"]\n",
    "batch_size = 16\n",
    "num_head = 8\n",
    "d_model = 512\n",
    "d_ff = 2048\n",
    "N = 6\n",
    "pad_idx = 0\n",
    "dropout_rate=0.1\n",
    "layer_norm_eps = 1e-5\n",
    "src = torch.randint(0,2000, (batch_size,max_len)).to(torch.int64)\n",
    "tgt = torch.randint(0,2000, (batch_size,max_len)).to(torch.int64)"
   ]
  },
  {
   "cell_type": "code",
   "execution_count": 13,
   "id": "794ada80-3679-4fc5-9b1b-8567f096962e",
   "metadata": {},
   "outputs": [
    {
     "data": {
      "text/plain": [
       "torch.Size([16, 159])"
      ]
     },
     "execution_count": 13,
     "metadata": {},
     "output_type": "execute_result"
    }
   ],
   "source": [
    "q.shape"
   ]
  },
  {
   "cell_type": "markdown",
   "id": "dfe97f88-d698-466c-88f1-e6344f853360",
   "metadata": {},
   "source": [
    "## MultiHeadAttentionの実行\n",
    "ランダムなテンソル、スタンダードなマスクを使う。"
   ]
  },
  {
   "cell_type": "code",
   "execution_count": 8,
   "id": "5ebadbee-ed4c-47eb-837a-70117b3c7015",
   "metadata": {},
   "outputs": [
    {
     "name": "stdout",
     "output_type": "stream",
     "text": [
      "torch.Size([2, 8, 8])\n",
      "torch.Size([2, 8, 8])\n"
     ]
    }
   ],
   "source": [
    "def create_incremental_mask(seq_len):\n",
    "    \"\"\"\n",
    "    seq_len x seq_len のサイズのマスクを生成する。\n",
    "    0列目は全てFalse、以降の列では上から順にTrueの数を増やしていく。\n",
    "    \"\"\"\n",
    "    # seq_len x seq_len の行列を生成し、初期値は全てFalseに設定\n",
    "    mask = torch.full((seq_len, seq_len), False)\n",
    "\n",
    "    # 各列に対して、上から順にTrueをセットする\n",
    "    for i in range(seq_len):\n",
    "        mask[:i, i] = True\n",
    "\n",
    "    return mask\n",
    "self_mask = create_incremental_mask(seq_len).repeat(batch_size,1,1)\n",
    "tgt_mask = create_incremental_mask(seq_len).repeat(batch_size,1,1)\n",
    "print(self_mask.shape)\n",
    "print(tgt_mask.shape)"
   ]
  },
  {
   "cell_type": "code",
   "execution_count": 9,
   "id": "692a7e7f-4ee9-406a-afe0-9e23b820d895",
   "metadata": {},
   "outputs": [],
   "source": [
    "encoder = TransformerEncoder(\n",
    "    d_model = d_model,\n",
    "    d_ff = d_ff,\n",
    "    num_head = num_head,\n",
    "    N=N,\n",
    "    max_len=max_len,\n",
    "    pad_idx=pad_idx,\n",
    "    vocab_size=vocab_size,\n",
    "    dropout_rate=dropout_rate,\n",
    "    layer_norm_eps=layer_norm_eps\n",
    ")"
   ]
  },
  {
   "cell_type": "code",
   "execution_count": 11,
   "id": "712a730d-de65-4ed3-a880-f122b427032f",
   "metadata": {},
   "outputs": [
    {
     "name": "stdout",
     "output_type": "stream",
     "text": [
      "torch.Size([2, 8, 64])\n"
     ]
    }
   ],
   "source": [
    "output = encoder(\n",
    "    k.to(torch.int32),\n",
    "    mask=self_mask)"
   ]
  },
  {
   "cell_type": "code",
   "execution_count": 16,
   "id": "86086690-f220-4af9-a807-edf3470730ba",
   "metadata": {},
   "outputs": [],
   "source": [
    "decoderlayer = TransformerDecoderLayer(\n",
    "    d_model=d_model,\n",
    "    d_ff=d_ff,\n",
    "    num_head=num_head,\n",
    "    dropout_rate=dropout_rate,\n",
    "    layer_norm_eps=layer_norm_eps\n",
    ")"
   ]
  },
  {
   "cell_type": "code",
   "execution_count": 5,
   "id": "43e20c35-ec23-436f-943f-c9b0eb864fe4",
   "metadata": {},
   "outputs": [],
   "source": [
    "transformer = Transformer(\n",
    "    src_vocab_size=src_vocab_size,\n",
    "    tgt_vocab_size=tgt_vocab_size,\n",
    "    max_len=max_len\n",
    ")"
   ]
  },
  {
   "cell_type": "code",
   "execution_count": 6,
   "id": "edbcef8a-2c79-4643-ac11-aaaa96e642ad",
   "metadata": {},
   "outputs": [],
   "source": [
    "output = transformer(\n",
    "    src=src,\n",
    "    tgt=tgt\n",
    ")"
   ]
  },
  {
   "cell_type": "markdown",
   "id": "bc04c624-e717-4817-90b2-63b21a2a3be0",
   "metadata": {},
   "source": [
    "output.shape"
   ]
  },
  {
   "cell_type": "markdown",
   "id": "e813227e-32e5-4c6f-8c5a-fc578960534e",
   "metadata": {},
   "source": [
    "## LSHアルゴリズムの実装"
   ]
  },
  {
   "cell_type": "code",
   "execution_count": 16,
   "id": "3fc4abcb-b48e-465b-ab3c-d28a95b8c3c0",
   "metadata": {},
   "outputs": [],
   "source": [
    "num_of_hash = 4\n",
    "d_model = 3"
   ]
  },
  {
   "cell_type": "markdown",
   "id": "3650c699-e1d3-4aff-b97b-f5d236375bdb",
   "metadata": {},
   "source": [
    "### あらかじめx_1,2,3の類似度をそれぞれ測っておく"
   ]
  },
  {
   "cell_type": "code",
   "execution_count": 78,
   "id": "7a186856-981d-4ab5-8c43-06712fd71b1b",
   "metadata": {},
   "outputs": [],
   "source": [
    "from sklearn.metrics.pairwise import cosine_similarity as similarity\n",
    "def generate_sample_data(d_model,num_of_hashes):\n",
    "    ### 適当なベクトルを三つ生成\n",
    "    x_1 = torch.randn(d_model)\n",
    "    x_2 = torch.randn(d_model)\n",
    "    x_3 = torch.randn(d_model)\n",
    "    pairs = [(x_1,x_2,\"1-2\"),(x_1,x_3,\"1-3\"),(x_2,x_3,\"2-3\")]\n",
    "    similarities = similarities = [(pair[2], similarity(pair[0].reshape(1,-1), pair[1].reshape(1,-1))) for pair in pairs]\n",
    "    similarities = sorted(similarities, key=lambda x: x[1], reverse=True)\n",
    "    print(similarities)\n",
    "    ### 標準正規分布に従う行列を作成\n",
    "    R = np.random.randn(d_model,int(num_of_hash/2))\n",
    "    return ((x_1,x_2,x_3),R)"
   ]
  },
  {
   "cell_type": "code",
   "execution_count": 116,
   "id": "8a45fcbb-beb3-4315-8321-41b138ceaaea",
   "metadata": {},
   "outputs": [
    {
     "name": "stdout",
     "output_type": "stream",
     "text": [
      "[('1-2', array([[-0.2635013]], dtype=float32)), ('1-3', array([[-0.41672304]], dtype=float32)), ('2-3', array([[-0.7318527]], dtype=float32))]\n"
     ]
    }
   ],
   "source": [
    "vectors,R = generate_sample_data(d_model,num_of_hash)"
   ]
  },
  {
   "cell_type": "code",
   "execution_count": 117,
   "id": "9719aad0-a3b4-46f3-9256-4ee4c674f5ec",
   "metadata": {},
   "outputs": [],
   "source": [
    "def sample_lsh(input,R):\n",
    "    x_R = input@R\n",
    "    x_R = torch.cat([x_R, -x_R], dim=1)\n",
    "    ## argmaxに書き換えてもいいけどmax使った方がhashの値まで見えていいかなと思ってこっちにしてる\n",
    "    hash = torch.max(x_R,dim=1).indices\n",
    "    return hash"
   ]
  },
  {
   "cell_type": "code",
   "execution_count": 176,
   "id": "651eeeb1-070a-40e0-85e9-6f83004fc405",
   "metadata": {},
   "outputs": [
    {
     "ename": "TypeError",
     "evalue": "vstack() got an unexpected keyword argument 'requires_grad'",
     "output_type": "error",
     "traceback": [
      "\u001b[0;31m---------------------------------------------------------------------------\u001b[0m",
      "\u001b[0;31mTypeError\u001b[0m                                 Traceback (most recent call last)",
      "Cell \u001b[0;32mIn[176], line 1\u001b[0m\n\u001b[0;32m----> 1\u001b[0m a \u001b[38;5;241m=\u001b[39m \u001b[43mtorch\u001b[49m\u001b[38;5;241;43m.\u001b[39;49m\u001b[43mvstack\u001b[49m\u001b[43m(\u001b[49m\n\u001b[1;32m      2\u001b[0m \u001b[43m    \u001b[49m\u001b[43m[\u001b[49m\n\u001b[1;32m      3\u001b[0m \u001b[43m        \u001b[49m\u001b[43mvectors\u001b[49m\u001b[43m[\u001b[49m\u001b[38;5;241;43m0\u001b[39;49m\u001b[43m]\u001b[49m\u001b[43m,\u001b[49m\n\u001b[1;32m      4\u001b[0m \u001b[43m        \u001b[49m\u001b[43mvectors\u001b[49m\u001b[43m[\u001b[49m\u001b[38;5;241;43m1\u001b[39;49m\u001b[43m]\u001b[49m\u001b[43m,\u001b[49m\n\u001b[1;32m      5\u001b[0m \u001b[43m        \u001b[49m\u001b[43mvectors\u001b[49m\u001b[43m[\u001b[49m\u001b[38;5;241;43m2\u001b[39;49m\u001b[43m]\u001b[49m\n\u001b[1;32m      6\u001b[0m \u001b[43m    \u001b[49m\u001b[43m]\u001b[49m\n\u001b[1;32m      7\u001b[0m \u001b[43m,\u001b[49m\u001b[43mrequires_grad\u001b[49m\u001b[38;5;241;43m=\u001b[39;49m\u001b[38;5;28;43;01mTrue\u001b[39;49;00m\u001b[43m)\u001b[49m\n",
      "\u001b[0;31mTypeError\u001b[0m: vstack() got an unexpected keyword argument 'requires_grad'"
     ]
    }
   ],
   "source": [
    "a = torch.vstack(\n",
    "    [\n",
    "        vectors[0],\n",
    "        vectors[1],\n",
    "        vectors[2]\n",
    "    ])"
   ]
  },
  {
   "cell_type": "code",
   "execution_count": 119,
   "id": "f2c65228-157e-4d32-ac98-deb6b409b93f",
   "metadata": {},
   "outputs": [
    {
     "data": {
      "text/plain": [
       "tensor([[ 2.3341, -1.9627,  0.5752],\n",
       "        [ 0.3347,  0.6775, -1.7282],\n",
       "        [-0.8408,  0.4555,  1.3133]])"
      ]
     },
     "execution_count": 119,
     "metadata": {},
     "output_type": "execute_result"
    }
   ],
   "source": [
    "a"
   ]
  },
  {
   "cell_type": "code",
   "execution_count": 120,
   "id": "fe683124-29a0-48b8-b0c3-68da440ab245",
   "metadata": {},
   "outputs": [],
   "source": [
    "labels = sample_lsh(a,R)"
   ]
  },
  {
   "cell_type": "code",
   "execution_count": 121,
   "id": "4d0efb6e-80ea-47f6-81ec-46e40140d7ac",
   "metadata": {},
   "outputs": [
    {
     "data": {
      "text/plain": [
       "tensor([2, 1, 0])"
      ]
     },
     "execution_count": 121,
     "metadata": {},
     "output_type": "execute_result"
    }
   ],
   "source": [
    "labels"
   ]
  },
  {
   "cell_type": "code",
   "execution_count": 122,
   "id": "fd866257-ef82-4e63-adee-830b58d0345c",
   "metadata": {},
   "outputs": [
    {
     "data": {
      "text/plain": [
       "tensor([[ 2.3341, -1.9627,  0.5752],\n",
       "        [ 0.3347,  0.6775, -1.7282],\n",
       "        [-0.8408,  0.4555,  1.3133]])"
      ]
     },
     "execution_count": 122,
     "metadata": {},
     "output_type": "execute_result"
    }
   ],
   "source": [
    "a"
   ]
  },
  {
   "cell_type": "code",
   "execution_count": 123,
   "id": "a748ad2b-8437-4a2e-a5b0-c3eba72a28d8",
   "metadata": {},
   "outputs": [],
   "source": [
    "sorted_indices = labels.argsort()\n",
    "sorted_data = a[sorted_indices]"
   ]
  },
  {
   "cell_type": "code",
   "execution_count": 124,
   "id": "54c3ae82-62e9-4bb1-8447-0e5e43df414c",
   "metadata": {},
   "outputs": [
    {
     "data": {
      "text/plain": [
       "tensor([[-0.8408,  0.4555,  1.3133],\n",
       "        [ 0.3347,  0.6775, -1.7282],\n",
       "        [ 2.3341, -1.9627,  0.5752]])"
      ]
     },
     "execution_count": 124,
     "metadata": {},
     "output_type": "execute_result"
    }
   ],
   "source": [
    "sorted_data"
   ]
  },
  {
   "cell_type": "code",
   "execution_count": 165,
   "id": "8805f5a2-3e3e-4293-b0df-2306430a109d",
   "metadata": {},
   "outputs": [],
   "source": [
    "from torch import nn\n",
    "class Calculate_LSH(nn.Module):\n",
    "    def __init__(\n",
    "        self,\n",
    "        d_model:int,\n",
    "        num_length:int,\n",
    "        num_buckets:int,\n",
    "    )->None:\n",
    "        super().__init__()\n",
    "        ## define random matrix for rotation\n",
    "        self.R = torch.randn(size = (d_model,int(num_buckets/2)))\n",
    "        ## define vectors to store labels\n",
    "        ## ここは別にハッシュ計算部分で個別に定義してもいいけど変換を可逆にしたい時に便利かなって思ったのでこうしてます\n",
    "        self.labels = torch.randint(high=num_buckets,size=(num_length,))\n",
    "    def forward(\n",
    "        self,\n",
    "        input:torch.tensor,\n",
    "    )-> torch.tensor:\n",
    "        ##requires->行列\n",
    "        ##effects->ハッシュを元に各ベクトルのラベルを求め、ラベルごとに行列をソート\n",
    "        self.labels = self.__cal_hash(input)\n",
    "        sorted_indices = self.labels.argsort()\n",
    "        input = torch.index_select(input, 0 , sorted_indices)\n",
    "        return input\n",
    "    def __cal_hash(\n",
    "        self,\n",
    "        input:torch.tensor,\n",
    "    ):\n",
    "        ## requires->行列\n",
    "        ## effects->ハッシュを計算、単語ごとにハッシュを割り当ててラベルベクトルとして返す。\n",
    "        x_R = input@self.R\n",
    "        x_R = torch.cat([x_R, -x_R], dim=1)\n",
    "        ## argmaxに書き換えてもいいけどmax使った方がhashの値まで見えていいかなと思ってこっちにしてる\n",
    "        hash = torch.max(x_R,dim=1).indices\n",
    "        return hash"
   ]
  },
  {
   "cell_type": "code",
   "execution_count": 166,
   "id": "d0362771-a7f9-4baf-9a72-9d8c6c17dd04",
   "metadata": {},
   "outputs": [],
   "source": [
    "model = Calculate_LSH(\n",
    "    d_model = 3,\n",
    "    num_length = 3,\n",
    "    num_buckets = 4,\n",
    ")"
   ]
  },
  {
   "cell_type": "code",
   "execution_count": 183,
   "id": "f6356111-4446-4606-bbeb-4c51d74055c9",
   "metadata": {},
   "outputs": [],
   "source": [
    "a = torch.rand(size=(3,3),dtype=torch.float32,requires_grad=True)"
   ]
  },
  {
   "cell_type": "code",
   "execution_count": 184,
   "id": "924d73fa-5245-4e8f-9e59-e2a0bc6390a1",
   "metadata": {},
   "outputs": [
    {
     "data": {
      "text/plain": [
       "tensor([[0.4981, 0.3462, 0.0865],\n",
       "        [0.9151, 0.9980, 0.9033],\n",
       "        [0.3711, 0.4656, 0.9315]], requires_grad=True)"
      ]
     },
     "execution_count": 184,
     "metadata": {},
     "output_type": "execute_result"
    }
   ],
   "source": [
    "a"
   ]
  },
  {
   "cell_type": "code",
   "execution_count": 185,
   "id": "ce2ddac6-6f8c-4737-8995-e954ee78e57f",
   "metadata": {},
   "outputs": [
    {
     "name": "stdout",
     "output_type": "stream",
     "text": [
      "tensor([[0.4981, 0.3462, 0.0865],\n",
      "        [0.9151, 0.9980, 0.9033],\n",
      "        [0.3711, 0.4656, 0.9315]], grad_fn=<IndexSelectBackward0>)\n"
     ]
    }
   ],
   "source": [
    "print(model(a))"
   ]
  },
  {
   "cell_type": "code",
   "execution_count": 186,
   "id": "fdd8a120-797d-463e-8a0c-8a8e2a2270fd",
   "metadata": {},
   "outputs": [
    {
     "data": {
      "text/plain": [
       "tensor([2, 3, 3])"
      ]
     },
     "execution_count": 186,
     "metadata": {},
     "output_type": "execute_result"
    }
   ],
   "source": [
    "model.labels"
   ]
  },
  {
   "cell_type": "code",
   "execution_count": 188,
   "id": "78806920-c70a-42a8-a3d0-9f25a3aec0a1",
   "metadata": {},
   "outputs": [
    {
     "data": {
      "text/plain": [
       "True"
      ]
     },
     "execution_count": 188,
     "metadata": {},
     "output_type": "execute_result"
    }
   ],
   "source": [
    "model(a).requires_grad"
   ]
  },
  {
   "cell_type": "code",
   "execution_count": null,
   "id": "f91c1127-f05a-4ce8-8788-fcee628d11ea",
   "metadata": {},
   "outputs": [],
   "source": []
  }
 ],
 "metadata": {
  "kernelspec": {
   "display_name": "Python 3 (ipykernel)",
   "language": "python",
   "name": "python3"
  },
  "language_info": {
   "codemirror_mode": {
    "name": "ipython",
    "version": 3
   },
   "file_extension": ".py",
   "mimetype": "text/x-python",
   "name": "python",
   "nbconvert_exporter": "python",
   "pygments_lexer": "ipython3",
   "version": "3.8.18"
  }
 },
 "nbformat": 4,
 "nbformat_minor": 5
}
